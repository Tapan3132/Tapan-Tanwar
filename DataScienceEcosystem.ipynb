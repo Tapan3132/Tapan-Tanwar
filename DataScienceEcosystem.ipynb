{
 "cells": [
  {
   "cell_type": "markdown",
   "id": "3dfc1c18-33f2-4717-b7bf-be314a62b191",
   "metadata": {
    "tags": []
   },
   "source": [
    "# Data Science Tools and Ecosystem"
   ]
  },
  {
   "cell_type": "markdown",
   "id": "4b7a29f7-4cb8-4a03-81cb-4b0c7cdaaf3f",
   "metadata": {},
   "source": [
    "In this notebook, Data Science Tools and Ecosystem are summarized."
   ]
  },
  {
   "cell_type": "markdown",
   "id": "be4094c4-8370-43de-9d05-1fa0bd8fd4e7",
   "metadata": {},
   "source": [
    "Some of the popular languages that Data Scientists use are:"
   ]
  },
  {
   "cell_type": "markdown",
   "id": "e7e9fa44-c7de-4acd-96db-06a462e7d25c",
   "metadata": {},
   "source": [
    "1. C++\n",
    "2. Python\n",
    "3. Scala"
   ]
  },
  {
   "cell_type": "markdown",
   "id": "8929e573-dc1f-4662-9791-ccba6cde29b4",
   "metadata": {
    "tags": []
   },
   "source": [
    "Some of the commonly used libraries used by Data Scientists include:"
   ]
  },
  {
   "cell_type": "markdown",
   "id": "493a664e-b76d-4c07-b957-b038ae63fcef",
   "metadata": {},
   "source": [
    "1. Tensor Flow\n",
    "2. Keras\n",
    "3. Plotly"
   ]
  },
  {
   "cell_type": "markdown",
   "id": "bded6d4d-59d1-4090-8b51-491828cf3d7d",
   "metadata": {},
   "source": [
    "| Data Science Tools|\n",
    "|-------------------|\n",
    "|Jupyter Notebook|\n",
    "|Rstudio|\n",
    "|Matlab|"
   ]
  },
  {
   "cell_type": "markdown",
   "id": "481a13fd-9d1a-4283-908e-4e5befde6153",
   "metadata": {},
   "source": [
    "### Below are a few examples of evaluating arthimetic expressions in Python"
   ]
  },
  {
   "cell_type": "markdown",
   "id": "2910ace2-2ea5-45a5-b831-b0429756fbe9",
   "metadata": {},
   "source": [
    "This is a simple arithmetic expression to multiply then add integers"
   ]
  },
  {
   "cell_type": "code",
   "execution_count": 5,
   "id": "d750f561-3332-40ef-b7ef-0a69e039cbe8",
   "metadata": {
    "tags": []
   },
   "outputs": [
    {
     "data": {
      "text/plain": [
       "17"
      ]
     },
     "execution_count": 5,
     "metadata": {},
     "output_type": "execute_result"
    }
   ],
   "source": [
    "(3*4)+5"
   ]
  },
  {
   "cell_type": "markdown",
   "id": "b1451e29-05eb-481f-a882-4ab4e6c395b0",
   "metadata": {},
   "source": [
    "This will convert 200 minutes to hours by dividing by 60"
   ]
  },
  {
   "cell_type": "code",
   "execution_count": 6,
   "id": "da782c38-cb57-4369-ba81-d3783f2fc1ac",
   "metadata": {
    "tags": []
   },
   "outputs": [
    {
     "data": {
      "text/plain": [
       "3.3333333333333335"
      ]
     },
     "execution_count": 6,
     "metadata": {},
     "output_type": "execute_result"
    }
   ],
   "source": [
    "200/60"
   ]
  },
  {
   "cell_type": "markdown",
   "id": "5c0e93ea-7936-4153-9995-6e56aaa19b64",
   "metadata": {
    "tags": []
   },
   "source": [
    "**Objectives:**"
   ]
  },
  {
   "cell_type": "markdown",
   "id": "b911181b-0ecd-491e-b94a-fc87dba88286",
   "metadata": {
    "tags": []
   },
   "source": [
    "- Python\n",
    "- Java\n",
    "- C\n",
    "- C++"
   ]
  },
  {
   "cell_type": "markdown",
   "id": "918fbf35-2e50-4a90-ad70-5e5663613390",
   "metadata": {
    "tags": []
   },
   "source": [
    "## Author"
   ]
  },
  {
   "cell_type": "markdown",
   "id": "a88cde73-cddd-4adf-ba65-72cfa1f6f319",
   "metadata": {},
   "source": [
    "Tapan Tanwar"
   ]
  },
  {
   "cell_type": "code",
   "execution_count": null,
   "id": "0cdc7de1-2f0b-4746-b8cb-191b651082cd",
   "metadata": {},
   "outputs": [],
   "source": []
  }
 ],
 "metadata": {
  "kernelspec": {
   "display_name": "Python",
   "language": "python",
   "name": "conda-env-python-py"
  },
  "language_info": {
   "codemirror_mode": {
    "name": "ipython",
    "version": 3
   },
   "file_extension": ".py",
   "mimetype": "text/x-python",
   "name": "python",
   "nbconvert_exporter": "python",
   "pygments_lexer": "ipython3",
   "version": "3.7.12"
  }
 },
 "nbformat": 4,
 "nbformat_minor": 5
}
